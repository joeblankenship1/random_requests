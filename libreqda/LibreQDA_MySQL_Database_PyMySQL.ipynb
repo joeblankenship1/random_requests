{
 "cells": [
  {
   "cell_type": "markdown",
   "metadata": {},
   "source": [
    "# LibreQDA MySQL Database manipulation with PyMySQL"
   ]
  },
  {
   "cell_type": "code",
   "execution_count": null,
   "metadata": {
    "collapsed": true
   },
   "outputs": [],
   "source": [
    "'''\n",
    "Current possible tables (as of May 2017)\n",
    "\n",
    "auth_group\n",
    "auth_group_permissions\n",
    "auth_permission\n",
    "auth_user\n",
    "auth_user_groups\n",
    "auth_user_user_permissions\n",
    "django_admin_log\n",
    "django_content_type\n",
    "django_session\n",
    "django_site\n",
    "libreqda_annotation\n",
    "libreqda_annotation_codes\n",
    "libreqda_booleanquery\n",
    "libreqda_booleanquery_codes\n",
    "libreqda_category\n",
    "libreqda_category_annotations\n",
    "libreqda_category_citations\n",
    "libreqda_category_codes\n",
    "libreqda_category_documents\n",
    "libreqda_citation\n",
    "libreqda_citation_annotations\n",
    "libreqda_code\n",
    "libreqda_code_citations\n",
    "libreqda_code_parent_codes\n",
    "libreqda_document\n",
    "libreqda_documentinstance\n",
    "libreqda_documentinstance_annotations\n",
    "libreqda_project\n",
    "libreqda_proximityquery\n",
    "libreqda_semanticquery\n",
    "libreqda_setquery\n",
    "libreqda_setquery_boolean_queries\n",
    "libreqda_setquery_proximity_queries\n",
    "libreqda_setquery_semantic_queries\n",
    "libreqda_userprojectpermission     \n",
    "\n",
    "'''"
   ]
  },
  {
   "cell_type": "markdown",
   "metadata": {},
   "source": [
    "### Import library and create database connections"
   ]
  },
  {
   "cell_type": "code",
   "execution_count": null,
   "metadata": {
    "collapsed": true
   },
   "outputs": [],
   "source": [
    "# import the PyMySQL library\n",
    "\n",
    "import pymysql"
   ]
  },
  {
   "cell_type": "code",
   "execution_count": null,
   "metadata": {
    "collapsed": true
   },
   "outputs": [],
   "source": [
    "# create a MySQL database connection with your specific database information\n",
    "\n",
    "db = pymysql.connect(host='localhost', port=3306, user='root', passwd='your_password', db='libreqda')\n",
    "\n",
    "# create an interface through which you can pass SQL commands to your database\n",
    "\n",
    "cur = db.cursor()"
   ]
  },
  {
   "cell_type": "markdown",
   "metadata": {},
   "source": [
    "### List of codes with their descriptions"
   ]
  },
  {
   "cell_type": "code",
   "execution_count": null,
   "metadata": {
    "collapsed": true
   },
   "outputs": [],
   "source": [
    "# pass a SQL command to select all fields in the libreqda_code table\n",
    "\n",
    "cur.execute(\"SELECT * FROM libreqda_code\")\n",
    "\n",
    "# print the descriptions for the fields from the table\n",
    "\n",
    "print(cur.description)"
   ]
  },
  {
   "cell_type": "code",
   "execution_count": null,
   "metadata": {
    "collapsed": true
   },
   "outputs": [],
   "source": [
    "# select the name and comment fields for the codes from the libreqda_code table\n",
    "\n",
    "cur.execute(\"SELECT name, comment FROM libreqda_code\")\n",
    "\n",
    "# print name and comment for each row in the table\n",
    "\n",
    "for row in cur:\n",
    "    print(row)"
   ]
  },
  {
   "cell_type": "markdown",
   "metadata": {},
   "source": [
    "### Viewing the comments/annotations for all documents"
   ]
  },
  {
   "cell_type": "code",
   "execution_count": null,
   "metadata": {
    "collapsed": true
   },
   "outputs": [],
   "source": [
    "# pass a SQL command to select all fields in the libreqda_citation table\n",
    "\n",
    "cur.execute(\"SELECT * FROM libreqda_citation\")\n",
    "\n",
    "# print the descriptions for the fields from the table\n",
    "\n",
    "print(cur.description)"
   ]
  },
  {
   "cell_type": "code",
   "execution_count": null,
   "metadata": {
    "collapsed": true
   },
   "outputs": [],
   "source": [
    "# select the document ID, comment, and text fields for the codes from the libreqda_citation table\n",
    "\n",
    "cur.execute(\"SELECT document_id, comment, text FROM libreqda_citation\")\n",
    "\n",
    "# for comments only, use:\n",
    "# cur.execute(\"SELECT comment FROM libreqda_citation\")\n",
    "\n",
    "# print the document IDs, comments, and text for each row in the table\n",
    "\n",
    "for row in cur:\n",
    "    print(row)"
   ]
  },
  {
   "cell_type": "markdown",
   "metadata": {},
   "source": [
    "### Viewing the comments/annotations for specific documents"
   ]
  },
  {
   "cell_type": "code",
   "execution_count": null,
   "metadata": {
    "collapsed": true
   },
   "outputs": [],
   "source": [
    "# select the comment and text fields in libreqda_citation for a specific document ID number\n",
    "\n",
    "cur.execute(\"SELECT comment, text FROM libreqda_citation WHERE document_id = 1\")\n",
    "\n",
    "# for the comments without text, use:\n",
    "# cur.execute(\"SELECT comment FROM libreqda_citation WHERE document_id = 1\")\n",
    "\n",
    "# print the comments and text for each row in the table with document_id equal to the document ID number\n",
    "\n",
    "for row in cur:\n",
    "    print(row)"
   ]
  },
  {
   "cell_type": "markdown",
   "metadata": {},
   "source": [
    "### Edit the project abstract"
   ]
  },
  {
   "cell_type": "code",
   "execution_count": null,
   "metadata": {
    "collapsed": true
   },
   "outputs": [],
   "source": [
    "# pass a SQL command to select all fields in the libreqda_project table\n",
    "\n",
    "cur.execute(\"SELECT * FROM libreqda_project\")\n",
    "\n",
    "# print the descriptions for the fields from the table\n",
    "\n",
    "print(cur.description)"
   ]
  },
  {
   "cell_type": "code",
   "execution_count": null,
   "metadata": {
    "collapsed": true
   },
   "outputs": [],
   "source": [
    "# select the comment field (the abstract for the project) from the libreqda_project table\n",
    "\n",
    "cur.execute(\"SELECT * FROM libreqda_project\")\n",
    "\n",
    "# print the comment (abstract) for the project\n",
    "\n",
    "for row in cur:\n",
    "    print(row)"
   ]
  },
  {
   "cell_type": "code",
   "execution_count": null,
   "metadata": {
    "collapsed": true
   },
   "outputs": [],
   "source": [
    "# Overwrite the comment (abstract) in libreqda_project with new content\n",
    "# WARNING: BACKUP THE ORIGINAL CONTENT! THIS CANNOT BE UNDONE!\n",
    "\n",
    "cur.execute(\"UPDATE libreqda_project SET comment='new_abstract' WHERE name='name_of_project'\")"
   ]
  },
  {
   "cell_type": "markdown",
   "metadata": {},
   "source": [
    "### Close the MySQL DB connection"
   ]
  },
  {
   "cell_type": "code",
   "execution_count": null,
   "metadata": {
    "collapsed": true
   },
   "outputs": [],
   "source": [
    "cur.close()\n",
    "db.close()"
   ]
  }
 ],
 "metadata": {
  "kernelspec": {
   "display_name": "Python 3",
   "language": "python",
   "name": "python3"
  },
  "language_info": {
   "codemirror_mode": {
    "name": "ipython",
    "version": 3
   },
   "file_extension": ".py",
   "mimetype": "text/x-python",
   "name": "python",
   "nbconvert_exporter": "python",
   "pygments_lexer": "ipython3",
   "version": "3.5.2"
  }
 },
 "nbformat": 4,
 "nbformat_minor": 2
}
