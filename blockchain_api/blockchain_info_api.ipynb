{
 "cells": [
  {
   "cell_type": "markdown",
   "metadata": {
    "slideshow": {
     "slide_type": "-"
    }
   },
   "source": [
    "### Python API for Blockchain.info"
   ]
  },
  {
   "cell_type": "code",
   "execution_count": null,
   "metadata": {
    "collapsed": true
   },
   "outputs": [],
   "source": [
    "# import library\n",
    "from bitcoin import *"
   ]
  },
  {
   "cell_type": "code",
   "execution_count": null,
   "metadata": {},
   "outputs": [],
   "source": [
    "# produce a random private key\n",
    "priv = random_key()\n",
    "priv\n",
    "\n",
    "# you can also use a brain wallet :) https://en.bitcoin.it/wiki/Brainwallet\n",
    "\n",
    "# you can specify the encryption type\n",
    "# priv = sha256('input a very long string value here')"
   ]
  },
  {
   "cell_type": "code",
   "execution_count": null,
   "metadata": {},
   "outputs": [],
   "source": [
    "# derive your public key via the private\n",
    "pub = privtopub(priv)\n",
    "pub"
   ]
  },
  {
   "cell_type": "code",
   "execution_count": null,
   "metadata": {},
   "outputs": [],
   "source": [
    "# in order to better use the key pair, create a shorter readable address\n",
    "addr = pubtoaddr(pub)\n",
    "addr"
   ]
  },
  {
   "cell_type": "code",
   "execution_count": null,
   "metadata": {},
   "outputs": [],
   "source": [
    "# you can also use the above concepts to produce multisig transactions\n",
    "# first we'll produce 3 random public keys\n",
    "pub1 = privtopub(random_key())\n",
    "pub2 = privtopub(random_key())\n",
    "pub3 = privtopub(random_key())\n",
    "\n",
    "# include the above keys, and then k of n key signatures required to spend\n",
    "multi = mk_multisig_script(pub1, pub2, pub3, 2, 3)\n",
    "\n",
    "# then convert the multisig to a P2SH or \"pay to script hash\" address\n",
    "maddr = scriptaddr(multi)\n",
    "maddr"
   ]
  },
  {
   "cell_type": "code",
   "execution_count": null,
   "metadata": {},
   "outputs": [],
   "source": [
    "# pull the history for the address's transactions ;)\n",
    "hist = history('1FfmbHfnpaZjKFvyi1okTjJJusN455paPH')\n",
    "\n",
    "'''\n",
    "address is the queried address on the Bitcoin blockchain\n",
    "block_height is the block upon which this transaction occured\n",
    "output is the transaction hash for the transfer of Bitcoin\n",
    "value is the amount of Bitcoin in Satoshis (100 million Satoshis to 1 Bitcoin)\n",
    "'''\n",
    "\n",
    "hist"
   ]
  },
  {
   "cell_type": "code",
   "execution_count": null,
   "metadata": {},
   "outputs": [],
   "source": [
    "len(hist)"
   ]
  },
  {
   "cell_type": "code",
   "execution_count": null,
   "metadata": {},
   "outputs": [],
   "source": []
  }
 ],
 "metadata": {
  "kernelspec": {
   "display_name": "Python 3",
   "language": "python",
   "name": "python3"
  },
  "language_info": {
   "codemirror_mode": {
    "name": "ipython",
    "version": 3
   },
   "file_extension": ".py",
   "mimetype": "text/x-python",
   "name": "python",
   "nbconvert_exporter": "python",
   "pygments_lexer": "ipython3",
   "version": "3.5.2"
  }
 },
 "nbformat": 4,
 "nbformat_minor": 2
}
