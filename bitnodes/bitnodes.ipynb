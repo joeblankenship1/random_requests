{
 "cells": [
  {
   "cell_type": "markdown",
   "metadata": {},
   "source": [
    "# Get the latest node list from Bitnodes API"
   ]
  },
  {
   "cell_type": "code",
   "execution_count": 1,
   "metadata": {},
   "outputs": [],
   "source": [
    "# import requests\n",
    "import requests"
   ]
  },
  {
   "cell_type": "code",
   "execution_count": 2,
   "metadata": {},
   "outputs": [],
   "source": [
    "headers = {'Accept': 'application/json; indent=4',}\n",
    "bitnodes_data = requests.get('https://bitnodes.earn.com/api/v1/snapshots/latest/', headers=headers)"
   ]
  },
  {
   "cell_type": "markdown",
   "metadata": {},
   "source": [
    "# Convert Bitnodes API output to CSV"
   ]
  },
  {
   "cell_type": "code",
   "execution_count": 3,
   "metadata": {},
   "outputs": [],
   "source": [
    "# import pandas\n",
    "import pandas as pd"
   ]
  },
  {
   "cell_type": "code",
   "execution_count": 4,
   "metadata": {},
   "outputs": [
    {
     "data": {
      "text/html": [
       "<div>\n",
       "<style scoped>\n",
       "    .dataframe tbody tr th:only-of-type {\n",
       "        vertical-align: middle;\n",
       "    }\n",
       "\n",
       "    .dataframe tbody tr th {\n",
       "        vertical-align: top;\n",
       "    }\n",
       "\n",
       "    .dataframe thead th {\n",
       "        text-align: right;\n",
       "    }\n",
       "</style>\n",
       "<table border=\"1\" class=\"dataframe\">\n",
       "  <thead>\n",
       "    <tr style=\"text-align: right;\">\n",
       "      <th></th>\n",
       "      <th>timestamp</th>\n",
       "      <th>total_nodes</th>\n",
       "      <th>latest_height</th>\n",
       "      <th>nodes</th>\n",
       "    </tr>\n",
       "  </thead>\n",
       "  <tbody>\n",
       "    <tr>\n",
       "      <th>1.159.26.250:8333</th>\n",
       "      <td>2018-11-30 07:36:29</td>\n",
       "      <td>10492</td>\n",
       "      <td>552013</td>\n",
       "      <td>[70015, /Satoshi:0.17.0/, 1543357242, 1037, 55...</td>\n",
       "    </tr>\n",
       "    <tr>\n",
       "      <th>1.234.70.66:8333</th>\n",
       "      <td>2018-11-30 07:36:29</td>\n",
       "      <td>10492</td>\n",
       "      <td>552013</td>\n",
       "      <td>[70015, /Satoshi:0.15.1/, 1542977255, 13, 5520...</td>\n",
       "    </tr>\n",
       "    <tr>\n",
       "      <th>1.240.13.82:8333</th>\n",
       "      <td>2018-11-30 07:36:29</td>\n",
       "      <td>10492</td>\n",
       "      <td>552013</td>\n",
       "      <td>[70015, /Satoshi:0.16.0/, 1542977255, 1037, 55...</td>\n",
       "    </tr>\n",
       "    <tr>\n",
       "      <th>1.255.226.216:8333</th>\n",
       "      <td>2018-11-30 07:36:29</td>\n",
       "      <td>10492</td>\n",
       "      <td>552013</td>\n",
       "      <td>[70015, /Satoshi:0.16.0/, 1541473494, 1037, 55...</td>\n",
       "    </tr>\n",
       "    <tr>\n",
       "      <th>1.32.63.58:8333</th>\n",
       "      <td>2018-11-30 07:36:29</td>\n",
       "      <td>10492</td>\n",
       "      <td>552013</td>\n",
       "      <td>[70015, /Satoshi:0.13.2/, 1541762606, 13, 5520...</td>\n",
       "    </tr>\n",
       "  </tbody>\n",
       "</table>\n",
       "</div>"
      ],
      "text/plain": [
       "                             timestamp  total_nodes  latest_height  \\\n",
       "1.159.26.250:8333  2018-11-30 07:36:29        10492         552013   \n",
       "1.234.70.66:8333   2018-11-30 07:36:29        10492         552013   \n",
       "1.240.13.82:8333   2018-11-30 07:36:29        10492         552013   \n",
       "1.255.226.216:8333 2018-11-30 07:36:29        10492         552013   \n",
       "1.32.63.58:8333    2018-11-30 07:36:29        10492         552013   \n",
       "\n",
       "                                                                nodes  \n",
       "1.159.26.250:8333   [70015, /Satoshi:0.17.0/, 1543357242, 1037, 55...  \n",
       "1.234.70.66:8333    [70015, /Satoshi:0.15.1/, 1542977255, 13, 5520...  \n",
       "1.240.13.82:8333    [70015, /Satoshi:0.16.0/, 1542977255, 1037, 55...  \n",
       "1.255.226.216:8333  [70015, /Satoshi:0.16.0/, 1541473494, 1037, 55...  \n",
       "1.32.63.58:8333     [70015, /Satoshi:0.13.2/, 1541762606, 13, 5520...  "
      ]
     },
     "execution_count": 4,
     "metadata": {},
     "output_type": "execute_result"
    }
   ],
   "source": [
    "# read the JSON into a DataFrame\n",
    "bitnodes = pd.read_json(bitnodes_data.text)\n",
    "bitnodes.head()"
   ]
  },
  {
   "cell_type": "code",
   "execution_count": 5,
   "metadata": {},
   "outputs": [
    {
     "data": {
      "text/plain": [
       "10492"
      ]
     },
     "execution_count": 5,
     "metadata": {},
     "output_type": "execute_result"
    }
   ],
   "source": [
    "# examine how many records (e.g., mining nodes)\n",
    "len(bitnodes)"
   ]
  },
  {
   "cell_type": "code",
   "execution_count": 6,
   "metadata": {},
   "outputs": [
    {
     "data": {
      "text/plain": [
       "[70015,\n",
       " '/Satoshi:0.15.1/',\n",
       " 1542977255,\n",
       " 13,\n",
       " 552013,\n",
       " '1.234.70.66',\n",
       " 'Seoul',\n",
       " 'KR',\n",
       " 37.5985,\n",
       " 126.9783,\n",
       " 'Asia/Seoul',\n",
       " 'AS9318',\n",
       " 'SK Broadband Co Ltd']"
      ]
     },
     "execution_count": 6,
     "metadata": {},
     "output_type": "execute_result"
    }
   ],
   "source": [
    "# looking at the above DataFrame, we are interested in the 'nodes' field\n",
    "bitnodes.nodes[1]"
   ]
  },
  {
   "cell_type": "code",
   "execution_count": 7,
   "metadata": {},
   "outputs": [
    {
     "data": {
      "text/html": [
       "<div>\n",
       "<style scoped>\n",
       "    .dataframe tbody tr th:only-of-type {\n",
       "        vertical-align: middle;\n",
       "    }\n",
       "\n",
       "    .dataframe tbody tr th {\n",
       "        vertical-align: top;\n",
       "    }\n",
       "\n",
       "    .dataframe thead th {\n",
       "        text-align: right;\n",
       "    }\n",
       "</style>\n",
       "<table border=\"1\" class=\"dataframe\">\n",
       "  <thead>\n",
       "    <tr style=\"text-align: right;\">\n",
       "      <th></th>\n",
       "      <th>Protocol_version</th>\n",
       "      <th>User_agent</th>\n",
       "      <th>Connected_since</th>\n",
       "      <th>Services</th>\n",
       "      <th>Height</th>\n",
       "      <th>Hostname</th>\n",
       "      <th>City</th>\n",
       "      <th>Country_code</th>\n",
       "      <th>LAT</th>\n",
       "      <th>LON</th>\n",
       "      <th>Timezone</th>\n",
       "      <th>ASN</th>\n",
       "      <th>Organization_name</th>\n",
       "    </tr>\n",
       "  </thead>\n",
       "  <tbody>\n",
       "    <tr>\n",
       "      <th>0</th>\n",
       "      <td>70015</td>\n",
       "      <td>/Satoshi:0.17.0/</td>\n",
       "      <td>1543357242</td>\n",
       "      <td>1037</td>\n",
       "      <td>552013</td>\n",
       "      <td>cpe-1-159-26-250.vb12.vic.asp.telstra.net</td>\n",
       "      <td>None</td>\n",
       "      <td>AU</td>\n",
       "      <td>-33.4940</td>\n",
       "      <td>143.2104</td>\n",
       "      <td>None</td>\n",
       "      <td>AS1221</td>\n",
       "      <td>Telstra Pty Ltd</td>\n",
       "    </tr>\n",
       "    <tr>\n",
       "      <th>1</th>\n",
       "      <td>70015</td>\n",
       "      <td>/Satoshi:0.15.1/</td>\n",
       "      <td>1542977255</td>\n",
       "      <td>13</td>\n",
       "      <td>552013</td>\n",
       "      <td>1.234.70.66</td>\n",
       "      <td>Seoul</td>\n",
       "      <td>KR</td>\n",
       "      <td>37.5985</td>\n",
       "      <td>126.9783</td>\n",
       "      <td>Asia/Seoul</td>\n",
       "      <td>AS9318</td>\n",
       "      <td>SK Broadband Co Ltd</td>\n",
       "    </tr>\n",
       "    <tr>\n",
       "      <th>2</th>\n",
       "      <td>70015</td>\n",
       "      <td>/Satoshi:0.16.0/</td>\n",
       "      <td>1542977255</td>\n",
       "      <td>1037</td>\n",
       "      <td>552013</td>\n",
       "      <td>1.240.13.82</td>\n",
       "      <td>None</td>\n",
       "      <td>KR</td>\n",
       "      <td>37.5112</td>\n",
       "      <td>126.9741</td>\n",
       "      <td>Asia/Seoul</td>\n",
       "      <td>AS9318</td>\n",
       "      <td>SK Broadband Co Ltd</td>\n",
       "    </tr>\n",
       "    <tr>\n",
       "      <th>3</th>\n",
       "      <td>70015</td>\n",
       "      <td>/Satoshi:0.16.0/</td>\n",
       "      <td>1541473494</td>\n",
       "      <td>1037</td>\n",
       "      <td>552013</td>\n",
       "      <td>1.255.226.216</td>\n",
       "      <td>None</td>\n",
       "      <td>KR</td>\n",
       "      <td>37.5112</td>\n",
       "      <td>126.9741</td>\n",
       "      <td>Asia/Seoul</td>\n",
       "      <td>AS9318</td>\n",
       "      <td>SK Broadband Co Ltd</td>\n",
       "    </tr>\n",
       "    <tr>\n",
       "      <th>4</th>\n",
       "      <td>70015</td>\n",
       "      <td>/Satoshi:0.13.2/</td>\n",
       "      <td>1541762606</td>\n",
       "      <td>13</td>\n",
       "      <td>552013</td>\n",
       "      <td>1.32.63.58</td>\n",
       "      <td>Petaling Jaya</td>\n",
       "      <td>MY</td>\n",
       "      <td>3.1070</td>\n",
       "      <td>101.6305</td>\n",
       "      <td>Asia/Kuala_Lumpur</td>\n",
       "      <td>AS4788</td>\n",
       "      <td>TM Net, Internet Service Provider</td>\n",
       "    </tr>\n",
       "  </tbody>\n",
       "</table>\n",
       "</div>"
      ],
      "text/plain": [
       "   Protocol_version        User_agent  Connected_since  Services  Height  \\\n",
       "0             70015  /Satoshi:0.17.0/       1543357242      1037  552013   \n",
       "1             70015  /Satoshi:0.15.1/       1542977255        13  552013   \n",
       "2             70015  /Satoshi:0.16.0/       1542977255      1037  552013   \n",
       "3             70015  /Satoshi:0.16.0/       1541473494      1037  552013   \n",
       "4             70015  /Satoshi:0.13.2/       1541762606        13  552013   \n",
       "\n",
       "                                    Hostname           City Country_code  \\\n",
       "0  cpe-1-159-26-250.vb12.vic.asp.telstra.net           None           AU   \n",
       "1                                1.234.70.66          Seoul           KR   \n",
       "2                                1.240.13.82           None           KR   \n",
       "3                              1.255.226.216           None           KR   \n",
       "4                                 1.32.63.58  Petaling Jaya           MY   \n",
       "\n",
       "       LAT       LON           Timezone     ASN  \\\n",
       "0 -33.4940  143.2104               None  AS1221   \n",
       "1  37.5985  126.9783         Asia/Seoul  AS9318   \n",
       "2  37.5112  126.9741         Asia/Seoul  AS9318   \n",
       "3  37.5112  126.9741         Asia/Seoul  AS9318   \n",
       "4   3.1070  101.6305  Asia/Kuala_Lumpur  AS4788   \n",
       "\n",
       "                   Organization_name  \n",
       "0                    Telstra Pty Ltd  \n",
       "1                SK Broadband Co Ltd  \n",
       "2                SK Broadband Co Ltd  \n",
       "3                SK Broadband Co Ltd  \n",
       "4  TM Net, Internet Service Provider  "
      ]
     },
     "execution_count": 7,
     "metadata": {},
     "output_type": "execute_result"
    }
   ],
   "source": [
    "# node list fields have these names:\n",
    "# 'Protocol version', 'User agent', 'Connected since', 'Services', 'Height', 'Hostname', 'City', 'Country code', 'LAT', 'LON', 'Timezone', 'ASN', 'Organization name'\n",
    "# create a nodes column list\n",
    "node_fields = ['Protocol_version', 'User_agent', 'Connected_since', 'Services', 'Height', 'Hostname', 'City', 'Country_code', 'LAT', 'LON', 'Timezone', 'ASN', 'Organization_name']\n",
    "\n",
    "# create a new dataframe from the 'nodes' list field above with the column names\n",
    "bitnodes_nodes = pd.DataFrame(bitnodes.nodes.values.tolist(), columns=node_fields)\n",
    "bitnodes_nodes.head()"
   ]
  },
  {
   "cell_type": "code",
   "execution_count": 8,
   "metadata": {},
   "outputs": [
    {
     "data": {
      "text/html": [
       "<div>\n",
       "<style scoped>\n",
       "    .dataframe tbody tr th:only-of-type {\n",
       "        vertical-align: middle;\n",
       "    }\n",
       "\n",
       "    .dataframe tbody tr th {\n",
       "        vertical-align: top;\n",
       "    }\n",
       "\n",
       "    .dataframe thead th {\n",
       "        text-align: right;\n",
       "    }\n",
       "</style>\n",
       "<table border=\"1\" class=\"dataframe\">\n",
       "  <thead>\n",
       "    <tr style=\"text-align: right;\">\n",
       "      <th></th>\n",
       "      <th>Protocol_version</th>\n",
       "      <th>User_agent</th>\n",
       "      <th>Connected_since</th>\n",
       "      <th>Services</th>\n",
       "      <th>Height</th>\n",
       "      <th>Hostname</th>\n",
       "      <th>City</th>\n",
       "      <th>Country_code</th>\n",
       "      <th>LAT</th>\n",
       "      <th>LON</th>\n",
       "      <th>Timezone</th>\n",
       "      <th>ASN</th>\n",
       "      <th>Organization_name</th>\n",
       "    </tr>\n",
       "  </thead>\n",
       "  <tbody>\n",
       "    <tr>\n",
       "      <th>0</th>\n",
       "      <td>70015</td>\n",
       "      <td>/Satoshi:0.17.0/</td>\n",
       "      <td>2018-11-27 22:20:42</td>\n",
       "      <td>1037</td>\n",
       "      <td>552013</td>\n",
       "      <td>cpe-1-159-26-250.vb12.vic.asp.telstra.net</td>\n",
       "      <td>None</td>\n",
       "      <td>AU</td>\n",
       "      <td>-33.4940</td>\n",
       "      <td>143.2104</td>\n",
       "      <td>None</td>\n",
       "      <td>AS1221</td>\n",
       "      <td>Telstra Pty Ltd</td>\n",
       "    </tr>\n",
       "    <tr>\n",
       "      <th>1</th>\n",
       "      <td>70015</td>\n",
       "      <td>/Satoshi:0.15.1/</td>\n",
       "      <td>2018-11-23 12:47:35</td>\n",
       "      <td>13</td>\n",
       "      <td>552013</td>\n",
       "      <td>1.234.70.66</td>\n",
       "      <td>Seoul</td>\n",
       "      <td>KR</td>\n",
       "      <td>37.5985</td>\n",
       "      <td>126.9783</td>\n",
       "      <td>Asia/Seoul</td>\n",
       "      <td>AS9318</td>\n",
       "      <td>SK Broadband Co Ltd</td>\n",
       "    </tr>\n",
       "    <tr>\n",
       "      <th>2</th>\n",
       "      <td>70015</td>\n",
       "      <td>/Satoshi:0.16.0/</td>\n",
       "      <td>2018-11-23 12:47:35</td>\n",
       "      <td>1037</td>\n",
       "      <td>552013</td>\n",
       "      <td>1.240.13.82</td>\n",
       "      <td>None</td>\n",
       "      <td>KR</td>\n",
       "      <td>37.5112</td>\n",
       "      <td>126.9741</td>\n",
       "      <td>Asia/Seoul</td>\n",
       "      <td>AS9318</td>\n",
       "      <td>SK Broadband Co Ltd</td>\n",
       "    </tr>\n",
       "    <tr>\n",
       "      <th>3</th>\n",
       "      <td>70015</td>\n",
       "      <td>/Satoshi:0.16.0/</td>\n",
       "      <td>2018-11-06 03:04:54</td>\n",
       "      <td>1037</td>\n",
       "      <td>552013</td>\n",
       "      <td>1.255.226.216</td>\n",
       "      <td>None</td>\n",
       "      <td>KR</td>\n",
       "      <td>37.5112</td>\n",
       "      <td>126.9741</td>\n",
       "      <td>Asia/Seoul</td>\n",
       "      <td>AS9318</td>\n",
       "      <td>SK Broadband Co Ltd</td>\n",
       "    </tr>\n",
       "    <tr>\n",
       "      <th>4</th>\n",
       "      <td>70015</td>\n",
       "      <td>/Satoshi:0.13.2/</td>\n",
       "      <td>2018-11-09 11:23:26</td>\n",
       "      <td>13</td>\n",
       "      <td>552013</td>\n",
       "      <td>1.32.63.58</td>\n",
       "      <td>Petaling Jaya</td>\n",
       "      <td>MY</td>\n",
       "      <td>3.1070</td>\n",
       "      <td>101.6305</td>\n",
       "      <td>Asia/Kuala_Lumpur</td>\n",
       "      <td>AS4788</td>\n",
       "      <td>TM Net, Internet Service Provider</td>\n",
       "    </tr>\n",
       "  </tbody>\n",
       "</table>\n",
       "</div>"
      ],
      "text/plain": [
       "   Protocol_version        User_agent     Connected_since  Services  Height  \\\n",
       "0             70015  /Satoshi:0.17.0/ 2018-11-27 22:20:42      1037  552013   \n",
       "1             70015  /Satoshi:0.15.1/ 2018-11-23 12:47:35        13  552013   \n",
       "2             70015  /Satoshi:0.16.0/ 2018-11-23 12:47:35      1037  552013   \n",
       "3             70015  /Satoshi:0.16.0/ 2018-11-06 03:04:54      1037  552013   \n",
       "4             70015  /Satoshi:0.13.2/ 2018-11-09 11:23:26        13  552013   \n",
       "\n",
       "                                    Hostname           City Country_code  \\\n",
       "0  cpe-1-159-26-250.vb12.vic.asp.telstra.net           None           AU   \n",
       "1                                1.234.70.66          Seoul           KR   \n",
       "2                                1.240.13.82           None           KR   \n",
       "3                              1.255.226.216           None           KR   \n",
       "4                                 1.32.63.58  Petaling Jaya           MY   \n",
       "\n",
       "       LAT       LON           Timezone     ASN  \\\n",
       "0 -33.4940  143.2104               None  AS1221   \n",
       "1  37.5985  126.9783         Asia/Seoul  AS9318   \n",
       "2  37.5112  126.9741         Asia/Seoul  AS9318   \n",
       "3  37.5112  126.9741         Asia/Seoul  AS9318   \n",
       "4   3.1070  101.6305  Asia/Kuala_Lumpur  AS4788   \n",
       "\n",
       "                   Organization_name  \n",
       "0                    Telstra Pty Ltd  \n",
       "1                SK Broadband Co Ltd  \n",
       "2                SK Broadband Co Ltd  \n",
       "3                SK Broadband Co Ltd  \n",
       "4  TM Net, Internet Service Provider  "
      ]
     },
     "execution_count": 8,
     "metadata": {},
     "output_type": "execute_result"
    }
   ],
   "source": [
    "# convert the Unix timestamp to YYYY-DD-MM hh:mm:ss format\n",
    "bitnodes_nodes['Connected_since'] = pd.to_datetime(bitnodes_nodes['Connected_since'], unit='s')\n",
    "bitnodes_nodes.head()"
   ]
  },
  {
   "cell_type": "code",
   "execution_count": 9,
   "metadata": {},
   "outputs": [
    {
     "data": {
      "text/plain": [
       "True"
      ]
     },
     "execution_count": 9,
     "metadata": {},
     "output_type": "execute_result"
    }
   ],
   "source": [
    "# check to make sure we have the same number of records\n",
    "len(bitnodes_nodes) == len(bitnodes)"
   ]
  },
  {
   "cell_type": "code",
   "execution_count": 10,
   "metadata": {},
   "outputs": [],
   "source": [
    "# save the new nodes DataFrame as a CSV\n",
    "bitnodes_nodes.to_csv('data/bitnodes.csv', encoding='utf-8')"
   ]
  },
  {
   "cell_type": "markdown",
   "metadata": {},
   "source": [
    "### Mapping US-based nodes"
   ]
  },
  {
   "cell_type": "code",
   "execution_count": 1,
   "metadata": {},
   "outputs": [],
   "source": [
    "import pandas as pd\n",
    "import geopandas as gpd\n",
    "from shapely.geometry import Point\n",
    "from shapely.geometry import mapping\n",
    "import shapely.speedups # does this help?\n",
    "import matplotlib.pyplot as plt\n",
    "%matplotlib inline\n"
   ]
  },
  {
   "cell_type": "code",
   "execution_count": 3,
   "metadata": {},
   "outputs": [],
   "source": [
    "# import states and nodes data\n",
    "states = gpd.read_file('http://www2.census.gov/geo/tiger/GENZ2017/shp/cb_2017_us_state_20m.zip')\n",
    "nodes = pd.read_csv('data/bitnodes.csv')"
   ]
  },
  {
   "cell_type": "code",
   "execution_count": 4,
   "metadata": {},
   "outputs": [
    {
     "data": {
      "text/plain": [
       "{'init': 'epsg:4269'}"
      ]
     },
     "execution_count": 4,
     "metadata": {},
     "output_type": "execute_result"
    }
   ],
   "source": [
    "states.crs"
   ]
  },
  {
   "cell_type": "code",
   "execution_count": 5,
   "metadata": {},
   "outputs": [],
   "source": [
    "# create a GeoDataFrame from the CSV data and use the NAD 83 epsg:4269 CRS\n",
    "geoms = [Point(xy) for xy in zip(nodes.LON, nodes.LAT)]\n",
    "crs = {'init' :'epsg:4326'}\n",
    "nodes_geo = gpd.GeoDataFrame(nodes, crs=crs, geometry=geoms)"
   ]
  },
  {
   "cell_type": "code",
   "execution_count": null,
   "metadata": {},
   "outputs": [],
   "source": [
    "# clip points to US\n"
   ]
  },
  {
   "cell_type": "code",
   "execution_count": null,
   "metadata": {},
   "outputs": [],
   "source": [
    "# reproject into NAD83\n",
    "states_eqdc = states.to_crs('+proj=eqdc +lat_0=39 +lon_0=-96 +lat_1=33 +lat_2=45 +x_0=0 +y_0=0 +datum=NAD83 +units=m +no_defs')\n",
    "nodes_eqdc = nodes_geo.to_crs('+proj=eqdc +lat_0=39 +lon_0=-96 +lat_1=33 +lat_2=45 +x_0=0 +y_0=0 +datum=NAD83 +units=m +no_defs')"
   ]
  },
  {
   "cell_type": "code",
   "execution_count": null,
   "metadata": {},
   "outputs": [],
   "source": []
  },
  {
   "cell_type": "code",
   "execution_count": 6,
   "metadata": {},
   "outputs": [
    {
     "data": {
      "text/plain": [
       "[(20, 50), (-128, -65)]"
      ]
     },
     "execution_count": 6,
     "metadata": {},
     "output_type": "execute_result"
    },
    {
     "data": {
      "image/png": "[encoded data removed]",
      "text/plain": [
       "<Figure size 432x288 with 1 Axes>"
      ]
     },
     "metadata": {
      "needs_background": "light"
     },
     "output_type": "display_data"
    }
   ],
   "source": [
    "# plot all the data to have a look\n",
    "fig, ax = plt.subplots()\n",
    "\n",
    "states.plot(ax=ax, edgecolor='white', color='#f2f2f2', zorder=0);\n",
    "nodes_geo.plot(ax=ax, color='orange', zorder=1, markersize=.4);\n",
    "\n",
    "ax.set(xlim=(-128,-65), ylim=(20,50))"
   ]
  },
  {
   "cell_type": "code",
   "execution_count": null,
   "metadata": {},
   "outputs": [],
   "source": []
  }
 ],
 "metadata": {
  "kernelspec": {
   "display_name": "Python 3",
   "language": "python",
   "name": "python3"
  },
  "language_info": {
   "codemirror_mode": {
    "name": "ipython",
    "version": 3
   },
   "file_extension": ".py",
   "mimetype": "text/x-python",
   "name": "python",
   "nbconvert_exporter": "python",
   "pygments_lexer": "ipython3",
   "version": "3.6.7"
  }
 },
 "nbformat": 4,
 "nbformat_minor": 2
}
