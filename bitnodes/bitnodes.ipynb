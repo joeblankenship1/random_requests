{
 "cells": [
  {
   "cell_type": "markdown",
   "metadata": {},
   "source": [
    "# Get the latest node list from Bitnodes API"
   ]
  },
  {
   "cell_type": "code",
   "execution_count": null,
   "metadata": {},
   "outputs": [],
   "source": [
    "# import requests\n",
    "import requests"
   ]
  },
  {
   "cell_type": "code",
   "execution_count": null,
   "metadata": {},
   "outputs": [],
   "source": [
    "headers = {'Accept': 'application/json; indent=4',}\n",
    "bitnodes_data = requests.get('https://bitnodes.earn.com/api/v1/snapshots/latest/', headers=headers)"
   ]
  },
  {
   "cell_type": "markdown",
   "metadata": {},
   "source": [
    "# Convert Bitnodes API output to CSV"
   ]
  },
  {
   "cell_type": "code",
   "execution_count": null,
   "metadata": {},
   "outputs": [],
   "source": [
    "# import pandas\n",
    "import pandas as pd"
   ]
  },
  {
   "cell_type": "code",
   "execution_count": null,
   "metadata": {},
   "outputs": [],
   "source": [
    "# read the JSON into a DataFrame\n",
    "bitnodes = pd.read_json(bitnodes_data.text)\n",
    "bitnodes.head()"
   ]
  },
  {
   "cell_type": "code",
   "execution_count": null,
   "metadata": {},
   "outputs": [],
   "source": [
    "# examine how many records (e.g., mining nodes)\n",
    "len(bitnodes)"
   ]
  },
  {
   "cell_type": "code",
   "execution_count": null,
   "metadata": {},
   "outputs": [],
   "source": [
    "# looking at the above DataFrame, we are interested in the 'nodes' field\n",
    "bitnodes.nodes[1]"
   ]
  },
  {
   "cell_type": "code",
   "execution_count": null,
   "metadata": {},
   "outputs": [],
   "source": [
    "# node list fields have these names:\n",
    "# 'Protocol version', 'User agent', 'Connected since', 'Services', 'Height', 'Hostname', 'City', 'Country code', 'LAT', 'LON', 'Timezone', 'ASN', 'Organization name'\n",
    "# create a nodes column list\n",
    "node_fields = ['Protocol_version', 'User_agent', 'Connected_since', 'Services', 'Height', 'Hostname', 'City', 'Country_code', 'LAT', 'LON', 'Timezone', 'ASN', 'Organization_name']\n",
    "\n",
    "# create a new dataframe from the 'nodes' list field above with the column names\n",
    "bitnodes_nodes = pd.DataFrame(bitnodes.nodes.values.tolist(), columns=node_fields)\n",
    "bitnodes_nodes.head()"
   ]
  },
  {
   "cell_type": "code",
   "execution_count": null,
   "metadata": {},
   "outputs": [],
   "source": [
    "# convert the Unix timestamp to YYYY-DD-MM hh:mm:ss format\n",
    "bitnodes_nodes['Connected_since'] = pd.to_datetime(bitnodes_nodes['Connected_since'], unit='s')\n",
    "bitnodes_nodes.head()"
   ]
  },
  {
   "cell_type": "code",
   "execution_count": null,
   "metadata": {},
   "outputs": [],
   "source": [
    "# check to make sure we have the same number of records\n",
    "len(bitnodes_nodes) == len(bitnodes)"
   ]
  },
  {
   "cell_type": "code",
   "execution_count": null,
   "metadata": {},
   "outputs": [],
   "source": [
    "# save the new nodes DataFrame as a CSV\n",
    "bitnodes_nodes.to_csv('data/bitnodes.csv', encoding='utf-8')"
   ]
  },
  {
   "cell_type": "markdown",
   "metadata": {},
   "source": [
    "### Mapping US-based nodes"
   ]
  },
  {
   "cell_type": "code",
   "execution_count": null,
   "metadata": {},
   "outputs": [],
   "source": [
    "import pandas as pd\n",
    "import geopandas as gpd\n",
    "from shapely.geometry import Point\n",
    "from shapely.geometry import mapping\n",
    "import shapely.speedups # does this help?\n",
    "import matplotlib.pyplot as plt\n",
    "%matplotlib inline\n"
   ]
  },
  {
   "cell_type": "code",
   "execution_count": null,
   "metadata": {},
   "outputs": [],
   "source": [
    "# import states and nodes data\n",
    "states = gpd.read_file('http://www2.census.gov/geo/tiger/GENZ2017/shp/cb_2017_us_state_20m.zip')\n",
    "nodes = pd.read_csv('data/bitnodes.csv')"
   ]
  },
  {
   "cell_type": "code",
   "execution_count": null,
   "metadata": {},
   "outputs": [],
   "source": [
    "states.crs"
   ]
  },
  {
   "cell_type": "code",
   "execution_count": null,
   "metadata": {},
   "outputs": [],
   "source": [
    "# create a GeoDataFrame from the CSV data and use the NAD 83 epsg:4269 CRS\n",
    "geoms = [Point(xy) for xy in zip(nodes.LON, nodes.LAT)]\n",
    "crs = {'init' :'epsg:4326'}\n",
    "nodes_geo = gpd.GeoDataFrame(nodes, crs=crs, geometry=geoms)"
   ]
  },
  {
   "cell_type": "code",
   "execution_count": null,
   "metadata": {},
   "outputs": [],
   "source": [
    "# clip points to US\n"
   ]
  },
  {
   "cell_type": "code",
   "execution_count": null,
   "metadata": {},
   "outputs": [],
   "source": [
    "# reproject into NAD83\n",
    "states_eqdc = states.to_crs('+proj=eqdc +lat_0=39 +lon_0=-96 +lat_1=33 +lat_2=45 +x_0=0 +y_0=0 +datum=NAD83 +units=m +no_defs')\n",
    "nodes_eqdc = nodes_geo.to_crs('+proj=eqdc +lat_0=39 +lon_0=-96 +lat_1=33 +lat_2=45 +x_0=0 +y_0=0 +datum=NAD83 +units=m +no_defs')"
   ]
  },
  {
   "cell_type": "code",
   "execution_count": null,
   "metadata": {},
   "outputs": [],
   "source": [
    "# plot the data to have a look\n",
    "fig, ax = plt.subplots(figsize=(15, 12))\n",
    "\n",
    "states_eqdc.plot(ax=ax, edgecolor='white', color='#f2f2f2', zorder=0);\n",
    "nodes_eqdc.plot(ax=ax, color='orange', zorder=1, markersize=.4);\n",
    "\n",
    "ax.set(xlim=(-128,-65), ylim=(20,50))"
   ]
  },
  {
   "cell_type": "code",
   "execution_count": null,
   "metadata": {},
   "outputs": [],
   "source": []
  }
 ],
 "metadata": {
  "kernelspec": {
   "display_name": "Python 3",
   "language": "python",
   "name": "python3"
  },
  "language_info": {
   "codemirror_mode": {
    "name": "ipython",
    "version": 3
   },
   "file_extension": ".py",
   "mimetype": "text/x-python",
   "name": "python",
   "nbconvert_exporter": "python",
   "pygments_lexer": "ipython3",
   "version": "3.6.7"
  }
 },
 "nbformat": 4,
 "nbformat_minor": 2
}
